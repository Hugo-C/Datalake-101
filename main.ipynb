{
 "cells": [
  {
   "cell_type": "markdown",
   "metadata": {
    "collapsed": true,
    "pycharm": {
     "name": "#%% md\n"
    }
   },
   "source": [
    "# How to interract with the OCD Datalake API\n",
    "\n",
    "#### We'll first look how to authenticate, then how to retrieve threats. We'll look up a specific value, then we'll do a more broad search. Finally we'll see how to retrieve millions of threats at once at the cost of some delay in the response."
   ]
  },
  {
   "cell_type": "code",
   "execution_count": 1,
   "outputs": [],
   "source": [
    "# Required imports\n",
    "import json\n",
    "from time import sleep\n",
    "\n",
    "import requests\n",
    "from urllib.parse import urljoin"
   ],
   "metadata": {
    "collapsed": false,
    "pycharm": {
     "name": "#%%\n"
    }
   }
  },
  {
   "cell_type": "code",
   "source": [
    "# Keep in mind two urls exist, data on each one (including credentials) are fully separated\n",
    "\n",
    "production = 'https://datalake.cert.orangecyberdefense.com/'\n",
    "preproduction = 'https://ti.extranet.mrti-center.com/'  # Used for tests only, data should not be considered accurate\n",
    "\n",
    "api_url = preproduction  # We'll use the preproduction for this tutorial\n",
    "doc_url = urljoin(api_url, '/api/v2/docs/')\n",
    "print(f'Full documentation is available at {doc_url}')\n",
    "\n",
    "raw_swagger = urljoin(doc_url, 'swagger.json')\n",
    "json_swagger = requests.get(raw_swagger).json()\n",
    "print(f'Current version: {json_swagger[\"info\"][\"version\"]}')"
   ],
   "metadata": {
    "collapsed": false,
    "pycharm": {
     "name": "#%%\n"
    }
   },
   "execution_count": 2,
   "outputs": [
    {
     "name": "stdout",
     "output_type": "stream",
     "text": [
      "Full documentation is available at https://ti.extranet.mrti-center.com/api/v2/docs/\n",
      "Current version: 2.3.3\n"
     ]
    }
   ]
  },
  {
   "cell_type": "markdown",
   "source": [
    "The first step of any request is to retrieve an access token, it is valid for 10-15 mins.\n",
    " After this delay you will need to generate a new one, either with credentials or with the refresh token"
   ],
   "metadata": {
    "collapsed": false,
    "pycharm": {
     "name": "#%% md\n"
    }
   }
  },
  {
   "cell_type": "code",
   "execution_count": null,
   "outputs": [],
   "source": [
    "user_email = ''  # Fill me\n",
    "user_password = ''\n",
    "auth_url = urljoin(api_url, '/api/v2/auth/token/')\n",
    "auth_response = requests.post(\n",
    "    auth_url,\n",
    "    json={\n",
    "        \"email\": user_email,\n",
    "        \"password\": user_password\n",
    "    },\n",
    ").json()\n",
    "token = auth_response['access_token']\n",
    "authentication_header = {'Authorization': f'Token {token}'}"
   ],
   "metadata": {
    "collapsed": false,
    "pycharm": {
     "name": "#%%\n"
    }
   }
  },
  {
   "cell_type": "markdown",
   "source": [
    "With this token we can retrieve our first threat, for example check if a specific domain exist in Datalake:"
   ],
   "metadata": {
    "collapsed": false,
    "pycharm": {
     "name": "#%% md\n"
    }
   }
  },
  {
   "cell_type": "code",
   "execution_count": null,
   "outputs": [],
   "source": [
    "lookup_url = urljoin(api_url, '/api/v2/mrti/threats/lookup/')\n",
    "domain = 'google.fr'\n",
    "lookup_response = requests.get(\n",
    "    lookup_url,\n",
    "    params={\n",
    "        'atom_value': domain,\n",
    "        'atom_type': 'domain',\n",
    "        'hashkey_only': False,  # We want all data, not just if the threat is present or not\n",
    "    },\n",
    "    headers=authentication_header,\n",
    ").json()\n",
    "\n",
    "# Remove some data for lisibility\n",
    "lookup_response.pop('tags')\n",
    "lookup_response.pop('metadata')\n",
    "\n",
    "print(f'Data about {domain}:')\n",
    "print(json.dumps(lookup_response, indent=2, sort_keys=True))"
   ],
   "metadata": {
    "collapsed": false,
    "pycharm": {
     "name": "#%%\n"
    }
   }
  },
  {
   "cell_type": "markdown",
   "source": [
    "That's a lot of data, we can focus on the score for example, with the risk being a value between 0 and 100, 100 meaning confirmed malicious :"
   ],
   "metadata": {
    "collapsed": false
   }
  },
  {
   "cell_type": "code",
   "execution_count": null,
   "outputs": [],
   "source": [
    "print(json.dumps(lookup_response.get('scores'), indent=2, sort_keys=True))"
   ],
   "metadata": {
    "collapsed": false,
    "pycharm": {
     "name": "#%%\n"
    }
   }
  },
  {
   "cell_type": "markdown",
   "source": [
    "If you want to do a more broad search, then you can use the Advanced Search !"
   ],
   "metadata": {
    "collapsed": false
   }
  },
  {
   "cell_type": "code",
   "execution_count": null,
   "outputs": [],
   "source": [
    "as_url = urljoin(api_url, '/api/v2/mrti/advanced-queries/threats/')\n",
    "as_response = requests.post(\n",
    "    as_url,\n",
    "    json={\n",
    "        \"limit\": 10,\n",
    "        'query_body': {\n",
    "            \"AND\": [\n",
    "                {\n",
    "                    \"AND\": [\n",
    "                        {\n",
    "                            \"field\": \"atom_type\",\n",
    "                            \"multi_values\": [\n",
    "                                \"url\"\n",
    "                            ],\n",
    "                            \"type\": \"filter\"\n",
    "                        },\n",
    "                        {\n",
    "                            \"field\": \"last_updated\",\n",
    "                            \"type\": \"filter\",\n",
    "                            \"value\": \"864000\"  # 10 days in seconds\n",
    "                        },\n",
    "                        {  # We exclude whitelist (score = 0)\n",
    "                            \"field\": \"risk\",\n",
    "                            \"range\": {\n",
    "                                \"gt\": 0\n",
    "                            },\n",
    "                            \"type\": \"filter\"\n",
    "                        },\n",
    "                        {\n",
    "                            \"atom_values_only\": True,\n",
    "                            \"field\": \"atom_details\",\n",
    "                            \"type\": \"search\",\n",
    "                            \"value\": \"google fr\"  # Search value\n",
    "                        }\n",
    "                    ]\n",
    "                }\n",
    "            ]\n",
    "        }\n",
    "    },\n",
    "    headers=authentication_header,\n",
    ").json()\n",
    "print(json.dumps(as_response, indent=2, sort_keys=True))"
   ],
   "metadata": {
    "collapsed": false,
    "pycharm": {
     "name": "#%%\n"
    }
   }
  },
  {
   "cell_type": "markdown",
   "source": [
    "An easy way to build query body is to first build them using the GUI with. The query body can then be showed by clicking on the link at:\n",
    "![Link next to \"Results for:\"](docs/gui_as_body.png)\n",
    "\n",
    "The id of the query (called a query hash) can also be used.\n",
    "\n",
    "To retrive more than 5k results at a time, the bulk search must be used.\n",
    "First, let's check if we have the proper permission:"
   ],
   "metadata": {
    "collapsed": false
   }
  },
  {
   "cell_type": "code",
   "execution_count": null,
   "outputs": [],
   "source": [
    "\n",
    "me_url = urljoin(api_url, 'api/v2/users/me/')\n",
    "me_response = requests.get(me_url, headers=authentication_header).json()\n",
    "# Uncomment to see the full response\n",
    "#print(json.dumps(me_response, indent=2, sort_keys=True))\n",
    "\n",
    "permissions = me_response.get(\"role\", {}).get(\"administration_permissions\", [])\n",
    "bs_access = any(p.get('name', '') == 'bulk_search' for p in permissions)\n",
    "print(f'Has access to bulk search: {bs_access}')"
   ],
   "metadata": {
    "collapsed": false,
    "pycharm": {
     "name": "#%%\n"
    }
   }
  },
  {
   "cell_type": "markdown",
   "source": [
    "Assuming we have the permission, let's first queue our request:"
   ],
   "metadata": {
    "collapsed": false,
    "pycharm": {
     "name": "#%% md\n"
    }
   }
  },
  {
   "cell_type": "code",
   "execution_count": null,
   "outputs": [],
   "source": [
    "bs_url = urljoin(api_url, 'api/v2/mrti/bulk-search/')\n",
    "bs_response = requests.post(\n",
    "    bs_url,\n",
    "    json={\n",
    "        'query_body': {\n",
    "            \"AND\": [\n",
    "                {\n",
    "                    \"AND\": [\n",
    "                        {\n",
    "                            \"field\": \"atom_type\",\n",
    "                            \"multi_values\": [\n",
    "                                \"url\"\n",
    "                            ],\n",
    "                            \"type\": \"filter\"\n",
    "                        },\n",
    "                        {\n",
    "                            \"field\": \"last_updated\",\n",
    "                            \"type\": \"filter\",\n",
    "                            \"value\": \"600\"  # last 10mins of data\n",
    "                        },\n",
    "                        {\n",
    "                            \"atom_values_only\": True,\n",
    "                            \"field\": \"atom_details\",\n",
    "                            \"type\": \"search\",\n",
    "                            \"value\": \"google\"\n",
    "                        }\n",
    "                    ]\n",
    "                }\n",
    "            ]\n",
    "        }\n",
    "    },\n",
    "    headers=authentication_header\n",
    ").json()\n",
    "print(json.dumps(bs_response, indent=2, sort_keys=True))\n",
    "task_uuid = bs_response['task_uuid']  # We get the uuid in the response, it'll be required to have the proper response\n",
    "\n",
    "# The request can take more or less time, depending our position in the queue\n",
    "# For this tutorial, we can wait a few minutes, in real product you must set a retry  to check at defined interval\n",
    "sleep(120)\n",
    "print('Done waiting')"
   ],
   "metadata": {
    "collapsed": false,
    "pycharm": {
     "name": "#%%\n"
    }
   }
  },
  {
   "cell_type": "markdown",
   "source": [
    "Assuming the request was processed, we can now retrieve the results (several millions at once) with the `task_uuid`:"
   ],
   "metadata": {
    "collapsed": false,
    "pycharm": {
     "name": "#%% md\n"
    }
   }
  },
  {
   "cell_type": "code",
   "execution_count": null,
   "outputs": [],
   "source": [
    "bs_result_url = urljoin(api_url, f'api/v2/mrti/bulk-search/task/{task_uuid}/')\n",
    "bs_result_response = requests.get(bs_result_url, headers=authentication_header).json()\n",
    "\n",
    "print(f'Results downloaded: {bs_result_response.get(\"count\")}')\n",
    "print(json.dumps(bs_result_response, indent=2, sort_keys=True))"
   ],
   "metadata": {
    "collapsed": false,
    "pycharm": {
     "name": "#%%\n"
    }
   }
  },
  {
   "cell_type": "markdown",
   "source": [
    "This request concludes this tutorial, don't hesitate to explore the API documentation.\n",
    "The GUI and [the CLI](https://github.com/cert-orangecyberdefense/datalake/) are also good examples to see how to interact with the API.\n",
    "Don't hesitate to contact the Datalake team if you have any question or feedback."
   ],
   "metadata": {
    "collapsed": false
   }
  }
 ],
 "metadata": {
  "kernelspec": {
   "display_name": "Python 3",
   "language": "python",
   "name": "python3"
  },
  "language_info": {
   "codemirror_mode": {
    "name": "ipython",
    "version": 2
   },
   "file_extension": ".py",
   "mimetype": "text/x-python",
   "name": "python",
   "nbconvert_exporter": "python",
   "pygments_lexer": "ipython2",
   "version": "2.7.6"
  }
 },
 "nbformat": 4,
 "nbformat_minor": 0
}